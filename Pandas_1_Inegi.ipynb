{
  "nbformat": 4,
  "nbformat_minor": 0,
  "metadata": {
    "colab": {
      "name": "Pandas_1_Inegi.ipynb",
      "provenance": [],
      "mount_file_id": "1FNmpUetcP0m6Nr4R5ofV2BC_3m3ougz3",
      "authorship_tag": "ABX9TyMKx5B/USvaSOJpqFNJKXY+",
      "include_colab_link": true
    },
    "kernelspec": {
      "name": "python3",
      "display_name": "Python 3"
    }
  },
  "cells": [
    {
      "cell_type": "markdown",
      "metadata": {
        "id": "view-in-github",
        "colab_type": "text"
      },
      "source": [
        "<a href=\"https://colab.research.google.com/github/pmendizabal/crash_course_on_analytics_with_python/blob/main/Pandas_1_Inegi.ipynb\" target=\"_parent\"><img src=\"https://colab.research.google.com/assets/colab-badge.svg\" alt=\"Open In Colab\"/></a>"
      ]
    },
    {
      "cell_type": "markdown",
      "metadata": {
        "id": "mZxQk59v8LSQ"
      },
      "source": [
        "###Práctica 1, Información INEGI"
      ]
    },
    {
      "cell_type": "code",
      "metadata": {
        "id": "rmwFiEk46-B3"
      },
      "source": [
        "import sys\n",
        "sys.path.insert(0,'/content/drive/My Drive/Colab Notebooks/Data_Analysis_Pandas')"
      ],
      "execution_count": null,
      "outputs": []
    },
    {
      "cell_type": "code",
      "metadata": {
        "id": "Ihg2ZPUh-rSS"
      },
      "source": [
        "#data source www.inegi.org.mx/programas/enoe/15ymas/default.html#Datos_abiertos\n",
        "#documentation www.inegi.org.mx/contenidos/programas/enoe/15ymas/doc/fd_c_bas_amp_15ymas.pdf\n",
        "#municipalities codes: https://www.gob.mx/cms/uploads/attachment/file/196925/Atenci_n_especial_2017.pdf\n",
        "!pip install geopandas\n",
        "import pandas as pd, geopandas as gpd\n",
        "import numpy as np\n",
        "import matplotlib\n",
        "import warnings\n",
        "from copy import deepcopy\n",
        "warnings.filterwarnings('ignore')\n",
        "\n",
        "# Recomendaciones:\n",
        "# 1. usar nombres sin espacios para poder usar después nomenclatura df.nombre_de_columa\n",
        "# 2. si una columna ya no te sirve, mejor hacerle drop('nombre_col', axis =1, inplace=True)\n",
        "#     porque entre menos columnas en memoria, más rápidos son los procesos\n",
        "# 3. es más eficiente importar solo las columnas que vas a necesitar\n",
        "# 4. usar replace para renombrar valores"
      ],
      "execution_count": null,
      "outputs": []
    },
    {
      "cell_type": "code",
      "metadata": {
        "id": "5bOsh3VJ-1DQ"
      },
      "source": [
        "\"\"\"\n",
        "sex: sexo, eda: edad, clase2: ocupado o no, \n",
        "cs_p13_1: grado de estudios\n",
        "pos_ocu: posición en la ocupación\n",
        "rama: sector de actividad económica\n",
        "c_ocu11c: tipo de trabajo (oficinista, trabajor de la educación, etx)\n",
        "ingocup: ingresos mensuales\n",
        "hrsocup: horas de trabajo a la semana\n",
        "cs_p17: estudiante o no\n",
        "rama_est2: sector de actividades (agricultura, etc)\n",
        "fac: factor de ocupación\n",
        "ent: estado\n",
        "mun: municipio\n",
        "\"\"\"\n",
        "#------------  reading datasets  ----------------\n",
        "municipalities = pd.read_csv('/content/drive/My Drive/Colab Notebooks/Data_Analysis_Pandas/municipalities_codes.csv', index_col=0)\n",
        "\n",
        "enoe = pd.read_csv('/content/drive/My Drive/Colab Notebooks/Data_Analysis_Pandas/demographic_data.csv',encoding='latin',\n",
        "                   usecols=[\"sex\", \"eda\", \"clase2\", \"cs_p13_1\", \"pos_ocu\", \"rama\",\n",
        "                            \"c_ocu11c\",\"ingocup\",\"hrsocup\", \"cs_p17\", \"rama_est2\", \n",
        "                            \"fac\", \"ent\", \"mun\"])\n",
        "enoe.head()"
      ],
      "execution_count": null,
      "outputs": []
    },
    {
      "cell_type": "code",
      "metadata": {
        "id": "1szLUUyG_A3F"
      },
      "source": [
        "#Con esta condicion nos quedamos con los ocupados del trimestre\n",
        "enoe_ocu = enoe[enoe['clase2'] == 1]\n",
        "#Con esta condicion nos quedamos con la gente de CDMX\n",
        "enoe_ocu = enoe_ocu[enoe_ocu['ent'] == 9]"
      ],
      "execution_count": null,
      "outputs": []
    },
    {
      "cell_type": "code",
      "metadata": {
        "id": "Y6XAJ9A8Tmbx"
      },
      "source": [
        "#Creamos una columna para recodificar la edad\n",
        "#Aquí solo cambiamos el tipo de dato de la columna\n",
        "enoe_ocu['eda'] = pd.to_numeric(enoe_ocu['eda'])\n",
        "#Set condiciones\n",
        "conditions = [\n",
        "    (enoe_ocu['eda'] >= 0) & (enoe_ocu['eda'] <= 15),\n",
        "    (enoe_ocu['eda'] >= 16) & (enoe_ocu['eda'] <= 20),\n",
        "    (enoe_ocu['eda'] >= 21) & (enoe_ocu['eda'] <= 30),\n",
        "    (enoe_ocu['eda'] >= 31) & (enoe_ocu['eda'] <= 40),\n",
        "    (enoe_ocu['eda'] >= 41) & (enoe_ocu['eda'] <= 50),\n",
        "    (enoe_ocu['eda'] >= 51)\n",
        "]\n",
        "\n",
        "choices = ['1', '2', '3', '4', '5', '6']\n",
        "#Ocupamos la función de select para crear la columna con los objetos predefinidos \n",
        "enoe_ocu['rango_edad'] = np.select(conditions, choices)\n",
        "enoe_ocu"
      ],
      "execution_count": null,
      "outputs": []
    },
    {
      "cell_type": "code",
      "metadata": {
        "id": "er_OGPFgRSAD"
      },
      "source": [
        "#Otra forma más limpia es\n",
        "age_bins = [0,15,20,30,40,50,150]\n",
        "#La función cut se ocupa para segmentar y ordenar datos dado intervalos (bins)\n",
        "enoe_ocu['eda'] = pd.to_numeric(enoe_ocu['eda'])\n",
        "enoe_ocu.loc[:,'eda'] = pd.cut(enoe_ocu.eda, age_bins, labels = [1,2,3,4,5,6],include_lowest=True)\n",
        "enoe_ocu"
      ],
      "execution_count": null,
      "outputs": []
    },
    {
      "cell_type": "code",
      "metadata": {
        "id": "vdWi4Hl8S8Go"
      },
      "source": [
        "#Ahora para los ingresos, que en este caso solo son salarios\n",
        "wage_bins = [0,1000,5000,10000,20000,35000,1000000]\n",
        "enoe_ocu.loc[:,'ingocup'] = pd.cut(enoe_ocu.ingocup.astype('float'),\n",
        "        wage_bins, labels = ['ultra_low_income', 'low_income', 'medium_income', \n",
        "        'regular_income', 'high_income', 'super_high_income'],include_lowest=True)\n",
        "enoe_ocu"
      ],
      "execution_count": null,
      "outputs": []
    },
    {
      "cell_type": "code",
      "metadata": {
        "id": "UuV1aCXDUs4K"
      },
      "source": [
        "dict_sex = {1:'Hombre',2:'Mujer'}\n",
        "#Dado que hay muchas clasificaciones, es mejor crear diccionarios\n",
        "#El metodo enumerate, fija las posiciones y debemos marcarle que inicie en 1 sino pone 0 por defecto\n",
        "dict_pos = dict(enumerate(['Trabajadores subordinados', 'Empleadores', 'Cuenta propia'],1))\n",
        "dict_rama = dict(enumerate(['construccion', 'manufactura', 'comercio', \n",
        "           'servicios', 'otros', 'agropecuario', 'no especificado'],1))\n",
        "dict_cocu11c = dict(enumerate(['Profesionales, tecnicos y trabajadores del arte', \n",
        "                'Trabajadores de la educacion','Funcionarios y directivos', \n",
        "                'Oficinistas', 'Trabajadores industriales, artesanos y ayudantes', \n",
        "                'Comerciantes', 'Operadores de transporte',\n",
        "                'Trabajadores en servicios personales', \n",
        "                'Trabajadores en proteccion y vigilancia'],1))\n",
        "dict_ramaest2 = dict(enumerate(['Agro', 'Minería y electricidad', 'Manufactura', \n",
        "                    'Construcción', 'Comercio', 'Restaurantes y hoteles', \n",
        "                    'Transportes, correo y almacenamiento', \n",
        "                    'Servicios profesionales, financieros y corporativos', \n",
        "                    'Servicios sociales', 'Servicios diversos', \n",
        "                    'Gobierno y organismos internacionales'],1))\n",
        "dict_csp13 = {0:'Ninguno', 1:'Preescolar',2:'Primaria',3:'Secundaria', \n",
        "              4:'Prepa o bachiller', 5:'Normal', 6:'Carrera tecnica',\n",
        "              7:'Profesional',8:'Maestria',9:'Doctorado',99:'No sabe'}\n",
        "dict_csp17 = {'1':'Estudiante', '2':'No estudiante','9': 'NR'}"
      ],
      "execution_count": null,
      "outputs": []
    },
    {
      "cell_type": "code",
      "metadata": {
        "id": "e8r_3T5xVs84"
      },
      "source": [
        "#Reemplazamos dichos valores en las columnas \n",
        "enoe_ocu.loc[:,'sex'].replace(dict_sex,inplace = True)\n",
        "enoe_ocu.loc[:,'pos_ocu'].replace(dict_pos,inplace=True)\n",
        "enoe_ocu.loc[:,'rama'].replace(dict_rama,inplace=True)\n",
        "enoe_ocu.loc[:,'c_ocu11c'].replace(dict_cocu11c,inplace=True)\n",
        "enoe_ocu.loc[:,'rama_est2'].replace(dict_ramaest2,inplace=True)\n",
        "enoe_ocu.loc[:,'cs_p13_1'].replace(dict_csp13,inplace=True)\n",
        "enoe_ocu.loc[:,'cs_p17'].replace(dict_csp17,inplace=True)\n",
        "\n",
        "enoe_ocu"
      ],
      "execution_count": null,
      "outputs": []
    },
    {
      "cell_type": "code",
      "metadata": {
        "id": "27lQSq9GWD0k"
      },
      "source": [
        "#Renombramos las columnas\n",
        "enoe_ocu.rename(columns= {'sex':'Sexo','eda':'Rango edad','cs_p13_1': 'Nivel estudios',\n",
        "                'pos_ocu': 'Posicion ocupacion','rama':'Rama Eco', \n",
        "                'clase2':'Condicion en la ocupacion','ingocup': 'Rango ingresos', \n",
        "                'hrsocup':'Horas trabajadas a la semana','cs_p17': 'Estudiante',\n",
        "                'rama_est2':'Subrama eco','fac' :'Factor','ent':'Estado',\n",
        "                'mun': 'Municipio','c_ocu11c':'Condicion en la ocupacion'},inplace = True)\n",
        "enoe_ocu"
      ],
      "execution_count": null,
      "outputs": []
    },
    {
      "cell_type": "code",
      "metadata": {
        "id": "S3NF_vnTWOpf"
      },
      "source": [
        "#Cambiamos tipos de datos en algunas columnas\n",
        "enoe_ocu.loc[:,'Rango edad'] = enoe_ocu.loc[:,'Rango edad'].astype('int')\n",
        "enoe_ocu.loc[:,'Horas trabajadas a la semana'] = enoe_ocu.loc[:,\n",
        "                                              'Horas trabajadas a la semana'].astype('int')\n",
        "enoe_ocu.loc[:,'Rango edad'] = enoe_ocu.loc[:,'Rango edad'].astype('int')\n",
        "#Borramos los diccionarios\n",
        "del age_bins, wage_bins, dict_sex, dict_pos,dict_rama,dict_cocu11c,dict_ramaest2\n",
        "del dict_csp13, dict_csp17"
      ],
      "execution_count": null,
      "outputs": []
    },
    {
      "cell_type": "code",
      "metadata": {
        "id": "2Wp4MYIeWipB"
      },
      "source": [
        "#Ahora hay que vincular con los municipios\n",
        "enoe_ocu.loc[:,'Municipio'] = enoe_ocu.loc[:,['Estado','Municipio']].apply(\n",
        "    lambda x: str(int(x[0])) +'-'+ str(int(x[1])), axis=1) #encoding municipalities\n",
        "print(municipalities.head())\n",
        "municipalities = pd.Series(municipalities.municipality.values,\n",
        "                            index=municipalities.code).to_dict()\n",
        "enoe_ocu.Municipio.replace(municipalities, inplace= True)"
      ],
      "execution_count": null,
      "outputs": []
    },
    {
      "cell_type": "code",
      "metadata": {
        "id": "DHt4VedSXNAk"
      },
      "source": [
        "#Analizar mediante clasificaciones de ingreso\n",
        "regular = enoe_ocu.loc[enoe_ocu['Rango ingresos'] == 'regular_income',:]\n",
        "high = enoe_ocu.loc[enoe_ocu['Rango ingresos'] == 'high_income',:]\n",
        "super_high = enoe_ocu.loc[enoe_ocu['Rango ingresos'] == 'super_high_income',:]\n",
        "\n",
        "#Ahora utilizamos el factor de expansion de la encuesta para tener la estimacion poblacional\n",
        "regular = pd.DataFrame(np.repeat(regular.values, \n",
        "                                 regular['Factor'].values, axis= 0), columns = enoe_ocu.columns)\n",
        "high = pd.DataFrame(np.repeat(high.values,\n",
        "                              high['Factor'].values, axis= 0), columns = enoe_ocu.columns)\n",
        "super_high = pd.DataFrame(np.repeat(super_high.values, super_high['Factor'].values, axis= 0), \n",
        "                             columns = enoe_ocu.columns)"
      ],
      "execution_count": null,
      "outputs": []
    },
    {
      "cell_type": "code",
      "metadata": {
        "id": "b1VhqG9WYunK"
      },
      "source": [
        "regular.describe()"
      ],
      "execution_count": null,
      "outputs": []
    },
    {
      "cell_type": "code",
      "metadata": {
        "id": "EmOH44L0Z0eO"
      },
      "source": [
        "regular_cross = pd.crosstab(regular['Estudiante'],regular['Posicion ocupacion'], margins=False)\n",
        "regular_cross"
      ],
      "execution_count": null,
      "outputs": []
    },
    {
      "cell_type": "code",
      "metadata": {
        "id": "yLNQ_TSNhIw3"
      },
      "source": [
        "regular_cross = pd.crosstab(regular['Rama Eco'],regular['Posicion ocupacion'], margins=False)\n",
        "regular_cross"
      ],
      "execution_count": null,
      "outputs": []
    },
    {
      "cell_type": "code",
      "metadata": {
        "id": "OVM3Nzt6h-r-"
      },
      "source": [
        ""
      ],
      "execution_count": null,
      "outputs": []
    }
  ]
}