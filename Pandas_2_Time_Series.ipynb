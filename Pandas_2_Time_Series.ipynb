{
  "nbformat": 4,
  "nbformat_minor": 0,
  "metadata": {
    "colab": {
      "name": "Pandas_2_Time_Series.ipynb",
      "provenance": [],
      "mount_file_id": "1kkrJmShicTnOOdZqdg9ynoA3IgUhqUmS",
      "authorship_tag": "ABX9TyP6BXVxuekAZ/Vg/+ORwy8p",
      "include_colab_link": true
    },
    "kernelspec": {
      "name": "python3",
      "display_name": "Python 3"
    }
  },
  "cells": [
    {
      "cell_type": "markdown",
      "metadata": {
        "id": "view-in-github",
        "colab_type": "text"
      },
      "source": [
        "<a href=\"https://colab.research.google.com/github/pmendizabal/crash_course_on_analytics_with_python/blob/main/Pandas_2_Time_Series.ipynb\" target=\"_parent\"><img src=\"https://colab.research.google.com/assets/colab-badge.svg\" alt=\"Open In Colab\"/></a>"
      ]
    },
    {
      "cell_type": "markdown",
      "metadata": {
        "id": "28xOVqH4iVyF"
      },
      "source": [
        "#Práctica sobre Series de Tiempo"
      ]
    },
    {
      "cell_type": "code",
      "metadata": {
        "id": "AOFxqKxsiMHH"
      },
      "source": [
        "import pandas as pd\n",
        "import numpy as np\n",
        "\n",
        "time_data = pd.read_csv('/content/drive/My Drive/Colab Notebooks/Data_Analysis_Pandas/Index2018.csv')\n",
        "time_data.head()"
      ],
      "execution_count": null,
      "outputs": []
    },
    {
      "cell_type": "code",
      "metadata": {
        "id": "aTQwwvyJklax"
      },
      "source": [
        "#DAX viene de la bolsa de Alemania, Footsie viene de la bolsa de Londres y Nikkei viene de Japón\n",
        "time_data.rename(columns={'spx': 'SP500','dax':'DAX30','ftse':'Footsie100','nikkei':'Nikkei225'},inplace=True)\n",
        "time_data.head()"
      ],
      "execution_count": null,
      "outputs": []
    },
    {
      "cell_type": "code",
      "metadata": {
        "id": "m70x-guslhQ0"
      },
      "source": [
        "time_data.describe()"
      ],
      "execution_count": null,
      "outputs": []
    },
    {
      "cell_type": "code",
      "metadata": {
        "id": "rCMApYQAlw0a"
      },
      "source": [
        "time_data.isna().sum()"
      ],
      "execution_count": null,
      "outputs": []
    },
    {
      "cell_type": "code",
      "metadata": {
        "id": "50Mxw_fCme1s"
      },
      "source": [
        "time_data.DAX30.isna().sum()"
      ],
      "execution_count": null,
      "outputs": []
    },
    {
      "cell_type": "code",
      "metadata": {
        "id": "7kNgtjcCm19i"
      },
      "source": [
        "#Vamos a graficar\n",
        "import matplotlib.pyplot as plt\n",
        "time_data.SP500.plot(figsize=(20,5), title='S&P500 Prices')\n",
        "plt.show()"
      ],
      "execution_count": null,
      "outputs": []
    },
    {
      "cell_type": "code",
      "metadata": {
        "id": "ZK_syDFUoAG4"
      },
      "source": [
        "time_data.DAX30.plot(figsize=(20,5), title='S&P500 Prices')\n",
        "plt.show()"
      ],
      "execution_count": null,
      "outputs": []
    },
    {
      "cell_type": "code",
      "metadata": {
        "id": "t3dOVaJQoJKn"
      },
      "source": [
        "time_data.Footsie100.plot(figsize=(20,5), title='S&P500 Prices')\n",
        "plt.show()"
      ],
      "execution_count": null,
      "outputs": []
    },
    {
      "cell_type": "code",
      "metadata": {
        "id": "_QM6LDHNoOim"
      },
      "source": [
        "time_data.SP500.plot(figsize=(20,5), title='S&P500 Prices')\n",
        "time_data.DAX30.plot(figsize=(20,5), title='S&P500 Prices')\n",
        "plt.title('S&P vs DAX')\n",
        "plt.show()"
      ],
      "execution_count": null,
      "outputs": []
    },
    {
      "cell_type": "code",
      "metadata": {
        "id": "bYqSCfS5sugU"
      },
      "source": [
        "time_data.date = pd.to_datetime(time_data.date,dayfirst=True)\n",
        "time_data.head()"
      ],
      "execution_count": null,
      "outputs": []
    },
    {
      "cell_type": "code",
      "metadata": {
        "id": "X1DMGBs1tOjZ"
      },
      "source": [
        "time_data.set_index('date',inplace=True)\n",
        "time_data.head()"
      ],
      "execution_count": null,
      "outputs": []
    },
    {
      "cell_type": "code",
      "metadata": {
        "id": "nmrYL6X5tcEj"
      },
      "source": [
        "time_data.Footsie100.plot(figsize=(20,5), title='S&P500 Prices')\n",
        "plt.show()"
      ],
      "execution_count": null,
      "outputs": []
    },
    {
      "cell_type": "markdown",
      "metadata": {
        "id": "I_l6lhkwuI0r"
      },
      "source": [
        "###Frecuencia del tiempo"
      ]
    },
    {
      "cell_type": "code",
      "metadata": {
        "id": "zjxFO5awuMH0"
      },
      "source": [
        "time_data = time_data.asfreq('d') #d = day\n",
        "time_data.head()"
      ],
      "execution_count": null,
      "outputs": []
    },
    {
      "cell_type": "code",
      "metadata": {
        "id": "YMlE6C_MyktL"
      },
      "source": [
        "time_data = time_data.asfreq('b') #b = business day\n",
        "time_data.head()"
      ],
      "execution_count": null,
      "outputs": []
    },
    {
      "cell_type": "code",
      "metadata": {
        "id": "DwfaSC1HzNob"
      },
      "source": [
        "time_data.isna().sum()"
      ],
      "execution_count": null,
      "outputs": []
    },
    {
      "cell_type": "code",
      "metadata": {
        "id": "qynaVHx3zUwH"
      },
      "source": [
        "time_data.SP500 = time_data.SP500.fillna(method='ffill') #Va a llenar con el dato que le sigue\n",
        "time_data.Footsie100 = time_data.Footsie100.fillna(method='bfill') #Se llena con el dato anterior\n",
        "time_data.DAX30 = time_data.DAX30.fillna(value=time_data.DAX30.mean())\n",
        "time_data.Nikkei225 = time_data.Nikkei225.fillna(method='bfill')\n",
        "time_data.isna().sum()"
      ],
      "execution_count": null,
      "outputs": []
    },
    {
      "cell_type": "markdown",
      "metadata": {
        "id": "m2QwDnFtqsgi"
      },
      "source": [
        "###Extra: QQplot\n",
        "\n",
        "Esta gráfica relaciona los valores de una serie con sus cuantiles teóricos, que mide a cuantas desviaciones estandar de la media estan dichos valores. La recta de 45 grados dicta la senda que debe seguir los valores para asegurar que lo datos si se distribuyen normalmente."
      ]
    },
    {
      "cell_type": "code",
      "metadata": {
        "id": "BEqG1hniqsNE"
      },
      "source": [
        "import scipy.stats\n",
        "\n",
        "scipy.stats.probplot(time_data.DAX30, plot = plt)\n",
        "plt.title(\"QQ Plot\", size=24)\n",
        "plt.show()"
      ],
      "execution_count": null,
      "outputs": []
    },
    {
      "cell_type": "markdown",
      "metadata": {
        "id": "NDFMpIuM16XG"
      },
      "source": [
        "###Serie estacionaria y no estacionaria\n",
        "\n",
        "Es estable a lo largo del tiempo, es decir, cuando la media y la varianza son constantes en el tiempo y no presenta tendencia.\n",
        "En el caso contrario, su tendencia cambia segun el tiempo, ya sea al alza, a la baja o mantenerse constante. Es evidente que la media en una serie estacionaria es constante pero si la covarianza entre los datos se mantiene igual, entonces es estacionaria \"debil\". Es fuerte cuando existen identicas distribuciones entre los datos."
      ]
    },
    {
      "cell_type": "code",
      "metadata": {
        "id": "Uxc16Kx1pRBS"
      },
      "source": [
        "#Pruba Dickey-Fueller\n",
        "import statsmodels.graphics.tsaplots as sgt\n",
        "import statsmodels.tsa.stattools as sts \n",
        "from statsmodels.tsa.seasonal import seasonal_decompose\n",
        "import seaborn as sns\n",
        "\n",
        "sts.adfuller(time_data.SP500)\n",
        "\n",
        "#El primer número es el valor del estadistico y hay que compararlo con el valor critico\n",
        "#que esta a diferentes niveles de significancia (1%, 10%, 5%), hay que recordar la hipotesis nula dicta\n",
        "#que la serie no es estacionaria. En este caso, eso sucede cuando el valor del estadístico es menor al valor critico, lo cual\n",
        "#no sucede por lo que la serie no es estacionaria."
      ],
      "execution_count": null,
      "outputs": []
    },
    {
      "cell_type": "markdown",
      "metadata": {
        "id": "I4YWYGNf7KTi"
      },
      "source": [
        "###Estacionalidad\n",
        "\n",
        "La estacionalidad sugiere que ciertas tendencias apareceran de forma cíclica. Hay varias formas para identificar estacionalidad:\n",
        "1. Tendencia (Patron)\n",
        "2.Estacional (Ciclos)\n",
        "3.Residual (Error)"
      ]
    },
    {
      "cell_type": "code",
      "metadata": {
        "id": "WIzZ_zTc4t1h"
      },
      "source": [
        "#Descomposición clasica: aditivo o multiplicativo\n"
      ],
      "execution_count": null,
      "outputs": []
    }
  ]
}