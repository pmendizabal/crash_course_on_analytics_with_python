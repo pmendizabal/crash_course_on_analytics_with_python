{
  "nbformat": 4,
  "nbformat_minor": 0,
  "metadata": {
    "colab": {
      "name": "Pandas_Basics.ipynb",
      "provenance": [],
      "authorship_tag": "ABX9TyO7jKxxFoeZamPIgVXapRxF",
      "include_colab_link": true
    },
    "kernelspec": {
      "name": "python3",
      "display_name": "Python 3"
    }
  },
  "cells": [
    {
      "cell_type": "markdown",
      "metadata": {
        "id": "view-in-github",
        "colab_type": "text"
      },
      "source": [
        "<a href=\"https://colab.research.google.com/github/pmendizabal/crash_course_on_analytics_with_python/blob/main/Pandas_Basics.ipynb\" target=\"_parent\"><img src=\"https://colab.research.google.com/assets/colab-badge.svg\" alt=\"Open In Colab\"/></a>"
      ]
    },
    {
      "cell_type": "markdown",
      "metadata": {
        "id": "4t15I0BHYovj"
      },
      "source": [
        "#¿Qué es pandas?\n",
        "\n",
        "Pandas es una librería de Python especializada en el tratamiento de datos para realizar múltiples analisis. El desarrollador Wes McKinney comenzó a trabajar con pandas en 2008 mientras estaba en AQR Capital Management debido a la necesidad de una herramienta flexible de alto rendimiento para realizar análisis cuantitativos de datos financieros. Antes de dejar AQR, pudo convencer a la gerencia para que le permitiera abrir la biblioteca con código abierto.\n",
        "\n",
        "Fuente: https://en.wikipedia.org/wiki/Pandas_(software)"
      ]
    },
    {
      "cell_type": "markdown",
      "metadata": {
        "id": "JsZydb-rZs_F"
      },
      "source": [
        "###Dataframe\n",
        "\n",
        "Es la estructura por excelencia dentro de pandas, la cual se homologa a aquellas que se hacen en Excel o SQL"
      ]
    },
    {
      "cell_type": "code",
      "metadata": {
        "colab": {
          "base_uri": "https://localhost:8080/",
          "height": 143
        },
        "id": "vXEtzK8wYeHo",
        "outputId": "ba18e29c-10d8-4f2a-ceda-8d41df5a48d7"
      },
      "source": [
        "import pandas as pd\n",
        "\n",
        "#Creamos el objeto Dataframe de forma manual \n",
        "\n",
        "df = pd.DataFrame({\"economist\": [\"Marx\",\n",
        "                                 \"Ricardo\",\n",
        "                                 \"Smith\"],\n",
        "                   \"death_year\": [1883, 1823, 1790],\n",
        "                   \"book\": [\"The Capital\",\"On the Principles of Political Economy and Taxation\",\n",
        "                            \"The Wealth of Nations\"]})\n",
        "\n",
        "df"
      ],
      "execution_count": 1,
      "outputs": [
        {
          "output_type": "execute_result",
          "data": {
            "text/html": [
              "<div>\n",
              "<style scoped>\n",
              "    .dataframe tbody tr th:only-of-type {\n",
              "        vertical-align: middle;\n",
              "    }\n",
              "\n",
              "    .dataframe tbody tr th {\n",
              "        vertical-align: top;\n",
              "    }\n",
              "\n",
              "    .dataframe thead th {\n",
              "        text-align: right;\n",
              "    }\n",
              "</style>\n",
              "<table border=\"1\" class=\"dataframe\">\n",
              "  <thead>\n",
              "    <tr style=\"text-align: right;\">\n",
              "      <th></th>\n",
              "      <th>economist</th>\n",
              "      <th>death_year</th>\n",
              "      <th>book</th>\n",
              "    </tr>\n",
              "  </thead>\n",
              "  <tbody>\n",
              "    <tr>\n",
              "      <th>0</th>\n",
              "      <td>Marx</td>\n",
              "      <td>1883</td>\n",
              "      <td>The Capital</td>\n",
              "    </tr>\n",
              "    <tr>\n",
              "      <th>1</th>\n",
              "      <td>Ricardo</td>\n",
              "      <td>1823</td>\n",
              "      <td>On the Principles of Political Economy and Tax...</td>\n",
              "    </tr>\n",
              "    <tr>\n",
              "      <th>2</th>\n",
              "      <td>Smith</td>\n",
              "      <td>1790</td>\n",
              "      <td>The Wealth of Nations</td>\n",
              "    </tr>\n",
              "  </tbody>\n",
              "</table>\n",
              "</div>"
            ],
            "text/plain": [
              "  economist  death_year                                               book\n",
              "0      Marx        1883                                        The Capital\n",
              "1   Ricardo        1823  On the Principles of Political Economy and Tax...\n",
              "2     Smith        1790                              The Wealth of Nations"
            ]
          },
          "metadata": {
            "tags": []
          },
          "execution_count": 1
        }
      ]
    },
    {
      "cell_type": "markdown",
      "metadata": {
        "id": "trhxxrjabjgr"
      },
      "source": [
        "Es evidente notar de que si tenemos un diccionario de listas, es sencillo transformarlo en dataframe. En este caso, las keys del diccionario seran usados como nombre de las columnas."
      ]
    },
    {
      "cell_type": "code",
      "metadata": {
        "colab": {
          "base_uri": "https://localhost:8080/"
        },
        "id": "-tnzw2OIbbrT",
        "outputId": "ffaac65a-2ab0-4d01-df9e-fef17397a190"
      },
      "source": [
        "econ_dict = {\"economist\": [\"Marx\",\n",
        "                                 \"Ricardo\",\n",
        "                                 \"Smith\"],\n",
        "                   \"death_year\": [1883, 1823, 1790],\n",
        "                   \"book\": [\"The Capital\",\"On the Principles of Political Economy and Taxation\",\n",
        "                            \"The Wealth of Nations\"]}\n",
        "econ_dict"
      ],
      "execution_count": 2,
      "outputs": [
        {
          "output_type": "execute_result",
          "data": {
            "text/plain": [
              "{'book': ['The Capital',\n",
              "  'On the Principles of Political Economy and Taxation',\n",
              "  'The Wealth of Nations'],\n",
              " 'death_year': [1883, 1823, 1790],\n",
              " 'economist': ['Marx', 'Ricardo', 'Smith']}"
            ]
          },
          "metadata": {
            "tags": []
          },
          "execution_count": 2
        }
      ]
    },
    {
      "cell_type": "code",
      "metadata": {
        "colab": {
          "base_uri": "https://localhost:8080/",
          "height": 143
        },
        "id": "rqW5yc7ob7nY",
        "outputId": "ad97a5bc-23e8-4be8-ac80-e894af8dbda5"
      },
      "source": [
        "econ_df = pd.DataFrame(econ_dict)\n",
        "econ_df"
      ],
      "execution_count": 3,
      "outputs": [
        {
          "output_type": "execute_result",
          "data": {
            "text/html": [
              "<div>\n",
              "<style scoped>\n",
              "    .dataframe tbody tr th:only-of-type {\n",
              "        vertical-align: middle;\n",
              "    }\n",
              "\n",
              "    .dataframe tbody tr th {\n",
              "        vertical-align: top;\n",
              "    }\n",
              "\n",
              "    .dataframe thead th {\n",
              "        text-align: right;\n",
              "    }\n",
              "</style>\n",
              "<table border=\"1\" class=\"dataframe\">\n",
              "  <thead>\n",
              "    <tr style=\"text-align: right;\">\n",
              "      <th></th>\n",
              "      <th>economist</th>\n",
              "      <th>death_year</th>\n",
              "      <th>book</th>\n",
              "    </tr>\n",
              "  </thead>\n",
              "  <tbody>\n",
              "    <tr>\n",
              "      <th>0</th>\n",
              "      <td>Marx</td>\n",
              "      <td>1883</td>\n",
              "      <td>The Capital</td>\n",
              "    </tr>\n",
              "    <tr>\n",
              "      <th>1</th>\n",
              "      <td>Ricardo</td>\n",
              "      <td>1823</td>\n",
              "      <td>On the Principles of Political Economy and Tax...</td>\n",
              "    </tr>\n",
              "    <tr>\n",
              "      <th>2</th>\n",
              "      <td>Smith</td>\n",
              "      <td>1790</td>\n",
              "      <td>The Wealth of Nations</td>\n",
              "    </tr>\n",
              "  </tbody>\n",
              "</table>\n",
              "</div>"
            ],
            "text/plain": [
              "  economist  death_year                                               book\n",
              "0      Marx        1883                                        The Capital\n",
              "1   Ricardo        1823  On the Principles of Political Economy and Tax...\n",
              "2     Smith        1790                              The Wealth of Nations"
            ]
          },
          "metadata": {
            "tags": []
          },
          "execution_count": 3
        }
      ]
    },
    {
      "cell_type": "code",
      "metadata": {
        "colab": {
          "base_uri": "https://localhost:8080/",
          "height": 175
        },
        "id": "eZjzP1dyjPbM",
        "outputId": "0c45af12-d5aa-4d08-959e-ac050cdf81c7"
      },
      "source": [
        "#Crear DF de series\n",
        "d = {'one': pd.Series([1., 2., 3.], index=['a', 'b', 'c']),'two': pd.Series([1., 2., 3., 4.], index=['a', 'b', 'c', 'd'])}\n",
        "df_2 = pd.DataFrame(d)\n",
        "df_2"
      ],
      "execution_count": 29,
      "outputs": [
        {
          "output_type": "execute_result",
          "data": {
            "text/html": [
              "<div>\n",
              "<style scoped>\n",
              "    .dataframe tbody tr th:only-of-type {\n",
              "        vertical-align: middle;\n",
              "    }\n",
              "\n",
              "    .dataframe tbody tr th {\n",
              "        vertical-align: top;\n",
              "    }\n",
              "\n",
              "    .dataframe thead th {\n",
              "        text-align: right;\n",
              "    }\n",
              "</style>\n",
              "<table border=\"1\" class=\"dataframe\">\n",
              "  <thead>\n",
              "    <tr style=\"text-align: right;\">\n",
              "      <th></th>\n",
              "      <th>one</th>\n",
              "      <th>two</th>\n",
              "    </tr>\n",
              "  </thead>\n",
              "  <tbody>\n",
              "    <tr>\n",
              "      <th>a</th>\n",
              "      <td>1.0</td>\n",
              "      <td>1.0</td>\n",
              "    </tr>\n",
              "    <tr>\n",
              "      <th>b</th>\n",
              "      <td>2.0</td>\n",
              "      <td>2.0</td>\n",
              "    </tr>\n",
              "    <tr>\n",
              "      <th>c</th>\n",
              "      <td>3.0</td>\n",
              "      <td>3.0</td>\n",
              "    </tr>\n",
              "    <tr>\n",
              "      <th>d</th>\n",
              "      <td>NaN</td>\n",
              "      <td>4.0</td>\n",
              "    </tr>\n",
              "  </tbody>\n",
              "</table>\n",
              "</div>"
            ],
            "text/plain": [
              "   one  two\n",
              "a  1.0  1.0\n",
              "b  2.0  2.0\n",
              "c  3.0  3.0\n",
              "d  NaN  4.0"
            ]
          },
          "metadata": {
            "tags": []
          },
          "execution_count": 29
        }
      ]
    },
    {
      "cell_type": "code",
      "metadata": {
        "colab": {
          "base_uri": "https://localhost:8080/"
        },
        "id": "YORsTk1Pj6X5",
        "outputId": "e053019d-00bc-4db7-bad5-c28fe8c0e7da"
      },
      "source": [
        "#Acceder a indice y columnas\n",
        "\n",
        "df_2.index\n",
        "df_2.columns"
      ],
      "execution_count": 31,
      "outputs": [
        {
          "output_type": "execute_result",
          "data": {
            "text/plain": [
              "Index(['one', 'two'], dtype='object')"
            ]
          },
          "metadata": {
            "tags": []
          },
          "execution_count": 31
        }
      ]
    },
    {
      "cell_type": "code",
      "metadata": {
        "colab": {
          "base_uri": "https://localhost:8080/",
          "height": 112
        },
        "id": "7_u-hxXDkXAm",
        "outputId": "5fe0ad0b-d99d-4030-d7ae-e2fbf7502322"
      },
      "source": [
        "#Crear DF mediante listas de diccionarios\n",
        "\n",
        "raw_data = [{'a': 1, 'b': 2}, {'a': 5, 'b': 10, 'c': 20}]\n",
        "\n",
        "pd.DataFrame(raw_data)"
      ],
      "execution_count": 32,
      "outputs": [
        {
          "output_type": "execute_result",
          "data": {
            "text/html": [
              "<div>\n",
              "<style scoped>\n",
              "    .dataframe tbody tr th:only-of-type {\n",
              "        vertical-align: middle;\n",
              "    }\n",
              "\n",
              "    .dataframe tbody tr th {\n",
              "        vertical-align: top;\n",
              "    }\n",
              "\n",
              "    .dataframe thead th {\n",
              "        text-align: right;\n",
              "    }\n",
              "</style>\n",
              "<table border=\"1\" class=\"dataframe\">\n",
              "  <thead>\n",
              "    <tr style=\"text-align: right;\">\n",
              "      <th></th>\n",
              "      <th>a</th>\n",
              "      <th>b</th>\n",
              "      <th>c</th>\n",
              "    </tr>\n",
              "  </thead>\n",
              "  <tbody>\n",
              "    <tr>\n",
              "      <th>0</th>\n",
              "      <td>1</td>\n",
              "      <td>2</td>\n",
              "      <td>NaN</td>\n",
              "    </tr>\n",
              "    <tr>\n",
              "      <th>1</th>\n",
              "      <td>5</td>\n",
              "      <td>10</td>\n",
              "      <td>20.0</td>\n",
              "    </tr>\n",
              "  </tbody>\n",
              "</table>\n",
              "</div>"
            ],
            "text/plain": [
              "   a   b     c\n",
              "0  1   2   NaN\n",
              "1  5  10  20.0"
            ]
          },
          "metadata": {
            "tags": []
          },
          "execution_count": 32
        }
      ]
    },
    {
      "cell_type": "code",
      "metadata": {
        "colab": {
          "base_uri": "https://localhost:8080/",
          "height": 112
        },
        "id": "62eQMlRzkous",
        "outputId": "3097a706-f6cb-45f1-e9e5-a1bd5f9976a3"
      },
      "source": [
        "pd.DataFrame(raw_data, columns=['one','two','three'])"
      ],
      "execution_count": 33,
      "outputs": [
        {
          "output_type": "execute_result",
          "data": {
            "text/html": [
              "<div>\n",
              "<style scoped>\n",
              "    .dataframe tbody tr th:only-of-type {\n",
              "        vertical-align: middle;\n",
              "    }\n",
              "\n",
              "    .dataframe tbody tr th {\n",
              "        vertical-align: top;\n",
              "    }\n",
              "\n",
              "    .dataframe thead th {\n",
              "        text-align: right;\n",
              "    }\n",
              "</style>\n",
              "<table border=\"1\" class=\"dataframe\">\n",
              "  <thead>\n",
              "    <tr style=\"text-align: right;\">\n",
              "      <th></th>\n",
              "      <th>one</th>\n",
              "      <th>two</th>\n",
              "      <th>three</th>\n",
              "    </tr>\n",
              "  </thead>\n",
              "  <tbody>\n",
              "    <tr>\n",
              "      <th>0</th>\n",
              "      <td>NaN</td>\n",
              "      <td>NaN</td>\n",
              "      <td>NaN</td>\n",
              "    </tr>\n",
              "    <tr>\n",
              "      <th>1</th>\n",
              "      <td>NaN</td>\n",
              "      <td>NaN</td>\n",
              "      <td>NaN</td>\n",
              "    </tr>\n",
              "  </tbody>\n",
              "</table>\n",
              "</div>"
            ],
            "text/plain": [
              "   one  two  three\n",
              "0  NaN  NaN    NaN\n",
              "1  NaN  NaN    NaN"
            ]
          },
          "metadata": {
            "tags": []
          },
          "execution_count": 33
        }
      ]
    },
    {
      "cell_type": "code",
      "metadata": {
        "colab": {
          "base_uri": "https://localhost:8080/"
        },
        "id": "OEpxLgfclS7a",
        "outputId": "fc727278-91c2-4e6e-a6c6-0a6d8f03dc37"
      },
      "source": [
        "#Selección de columnas y otras adiciones\n",
        "\n",
        "econ_df['book']"
      ],
      "execution_count": 34,
      "outputs": [
        {
          "output_type": "execute_result",
          "data": {
            "text/plain": [
              "0                                          The Capital\n",
              "1    On the Principles of Political Economy and Tax...\n",
              "2                                The Wealth of Nations\n",
              "Name: book, dtype: object"
            ]
          },
          "metadata": {
            "tags": []
          },
          "execution_count": 34
        }
      ]
    },
    {
      "cell_type": "code",
      "metadata": {
        "colab": {
          "base_uri": "https://localhost:8080/",
          "height": 143
        },
        "id": "ZI9gRfP9lfKU",
        "outputId": "d2b2817c-c680-42be-c9a0-87973f75a38b"
      },
      "source": [
        "#Generar nuevas columnas\n",
        "econ_df['oldest'] = econ_df['death_year'] < 1800 \n",
        "econ_df"
      ],
      "execution_count": 41,
      "outputs": [
        {
          "output_type": "execute_result",
          "data": {
            "text/html": [
              "<div>\n",
              "<style scoped>\n",
              "    .dataframe tbody tr th:only-of-type {\n",
              "        vertical-align: middle;\n",
              "    }\n",
              "\n",
              "    .dataframe tbody tr th {\n",
              "        vertical-align: top;\n",
              "    }\n",
              "\n",
              "    .dataframe thead th {\n",
              "        text-align: right;\n",
              "    }\n",
              "</style>\n",
              "<table border=\"1\" class=\"dataframe\">\n",
              "  <thead>\n",
              "    <tr style=\"text-align: right;\">\n",
              "      <th></th>\n",
              "      <th>economist</th>\n",
              "      <th>death_year</th>\n",
              "      <th>book</th>\n",
              "      <th>oldest</th>\n",
              "    </tr>\n",
              "  </thead>\n",
              "  <tbody>\n",
              "    <tr>\n",
              "      <th>0</th>\n",
              "      <td>Marx</td>\n",
              "      <td>1883</td>\n",
              "      <td>The Capital</td>\n",
              "      <td>False</td>\n",
              "    </tr>\n",
              "    <tr>\n",
              "      <th>1</th>\n",
              "      <td>Ricardo</td>\n",
              "      <td>1823</td>\n",
              "      <td>On the Principles of Political Economy and Tax...</td>\n",
              "      <td>False</td>\n",
              "    </tr>\n",
              "    <tr>\n",
              "      <th>2</th>\n",
              "      <td>Smith</td>\n",
              "      <td>1790</td>\n",
              "      <td>The Wealth of Nations</td>\n",
              "      <td>True</td>\n",
              "    </tr>\n",
              "  </tbody>\n",
              "</table>\n",
              "</div>"
            ],
            "text/plain": [
              "  economist  ...  oldest\n",
              "0      Marx  ...   False\n",
              "1   Ricardo  ...   False\n",
              "2     Smith  ...    True\n",
              "\n",
              "[3 rows x 4 columns]"
            ]
          },
          "metadata": {
            "tags": []
          },
          "execution_count": 41
        }
      ]
    },
    {
      "cell_type": "code",
      "metadata": {
        "colab": {
          "base_uri": "https://localhost:8080/",
          "height": 143
        },
        "id": "lAaj6pDznaWx",
        "outputId": "dfbdfeec-c483-4afd-cfdf-55b523c2e1a2"
      },
      "source": [
        "#Borrar columnas\n",
        "\n",
        "del econ_df['oldest']\n",
        "econ_df"
      ],
      "execution_count": 42,
      "outputs": [
        {
          "output_type": "execute_result",
          "data": {
            "text/html": [
              "<div>\n",
              "<style scoped>\n",
              "    .dataframe tbody tr th:only-of-type {\n",
              "        vertical-align: middle;\n",
              "    }\n",
              "\n",
              "    .dataframe tbody tr th {\n",
              "        vertical-align: top;\n",
              "    }\n",
              "\n",
              "    .dataframe thead th {\n",
              "        text-align: right;\n",
              "    }\n",
              "</style>\n",
              "<table border=\"1\" class=\"dataframe\">\n",
              "  <thead>\n",
              "    <tr style=\"text-align: right;\">\n",
              "      <th></th>\n",
              "      <th>economist</th>\n",
              "      <th>death_year</th>\n",
              "      <th>book</th>\n",
              "    </tr>\n",
              "  </thead>\n",
              "  <tbody>\n",
              "    <tr>\n",
              "      <th>0</th>\n",
              "      <td>Marx</td>\n",
              "      <td>1883</td>\n",
              "      <td>The Capital</td>\n",
              "    </tr>\n",
              "    <tr>\n",
              "      <th>1</th>\n",
              "      <td>Ricardo</td>\n",
              "      <td>1823</td>\n",
              "      <td>On the Principles of Political Economy and Tax...</td>\n",
              "    </tr>\n",
              "    <tr>\n",
              "      <th>2</th>\n",
              "      <td>Smith</td>\n",
              "      <td>1790</td>\n",
              "      <td>The Wealth of Nations</td>\n",
              "    </tr>\n",
              "  </tbody>\n",
              "</table>\n",
              "</div>"
            ],
            "text/plain": [
              "  economist  death_year                                               book\n",
              "0      Marx        1883                                        The Capital\n",
              "1   Ricardo        1823  On the Principles of Political Economy and Tax...\n",
              "2     Smith        1790                              The Wealth of Nations"
            ]
          },
          "metadata": {
            "tags": []
          },
          "execution_count": 42
        }
      ]
    },
    {
      "cell_type": "code",
      "metadata": {
        "colab": {
          "base_uri": "https://localhost:8080/",
          "height": 143
        },
        "id": "WCuvkhzNnp-g",
        "outputId": "138c5e02-75f1-4818-893f-243a04c42213"
      },
      "source": [
        "#Un solo valor asignado a una columna, provocará que se propague por todo el tamaño\n",
        "\n",
        "econ_df['repeated'] = 1\n",
        "econ_df"
      ],
      "execution_count": 43,
      "outputs": [
        {
          "output_type": "execute_result",
          "data": {
            "text/html": [
              "<div>\n",
              "<style scoped>\n",
              "    .dataframe tbody tr th:only-of-type {\n",
              "        vertical-align: middle;\n",
              "    }\n",
              "\n",
              "    .dataframe tbody tr th {\n",
              "        vertical-align: top;\n",
              "    }\n",
              "\n",
              "    .dataframe thead th {\n",
              "        text-align: right;\n",
              "    }\n",
              "</style>\n",
              "<table border=\"1\" class=\"dataframe\">\n",
              "  <thead>\n",
              "    <tr style=\"text-align: right;\">\n",
              "      <th></th>\n",
              "      <th>economist</th>\n",
              "      <th>death_year</th>\n",
              "      <th>book</th>\n",
              "      <th>repeated</th>\n",
              "    </tr>\n",
              "  </thead>\n",
              "  <tbody>\n",
              "    <tr>\n",
              "      <th>0</th>\n",
              "      <td>Marx</td>\n",
              "      <td>1883</td>\n",
              "      <td>The Capital</td>\n",
              "      <td>1</td>\n",
              "    </tr>\n",
              "    <tr>\n",
              "      <th>1</th>\n",
              "      <td>Ricardo</td>\n",
              "      <td>1823</td>\n",
              "      <td>On the Principles of Political Economy and Tax...</td>\n",
              "      <td>1</td>\n",
              "    </tr>\n",
              "    <tr>\n",
              "      <th>2</th>\n",
              "      <td>Smith</td>\n",
              "      <td>1790</td>\n",
              "      <td>The Wealth of Nations</td>\n",
              "      <td>1</td>\n",
              "    </tr>\n",
              "  </tbody>\n",
              "</table>\n",
              "</div>"
            ],
            "text/plain": [
              "  economist  ...  repeated\n",
              "0      Marx  ...         1\n",
              "1   Ricardo  ...         1\n",
              "2     Smith  ...         1\n",
              "\n",
              "[3 rows x 4 columns]"
            ]
          },
          "metadata": {
            "tags": []
          },
          "execution_count": 43
        }
      ]
    },
    {
      "cell_type": "markdown",
      "metadata": {
        "id": "6WN9xn_dpiiQ"
      },
      "source": [
        "###Otras formas de selección"
      ]
    },
    {
      "cell_type": "code",
      "metadata": {
        "colab": {
          "base_uri": "https://localhost:8080/"
        },
        "id": "34_pmyxGpk2G",
        "outputId": "d8f813d6-7a6d-4568-c839-56b456b73ff1"
      },
      "source": [
        "#Seleccionamos renglones con loc mediante su etiqueta o posicion en indices\n",
        "econ_df.loc[1]"
      ],
      "execution_count": 52,
      "outputs": [
        {
          "output_type": "execute_result",
          "data": {
            "text/plain": [
              "economist                                               Ricardo\n",
              "death_year                                                 1823\n",
              "book          On the Principles of Political Economy and Tax...\n",
              "repeated                                                      1\n",
              "Name: 1, dtype: object"
            ]
          },
          "metadata": {
            "tags": []
          },
          "execution_count": 52
        }
      ]
    },
    {
      "cell_type": "code",
      "metadata": {
        "colab": {
          "base_uri": "https://localhost:8080/",
          "height": 112
        },
        "id": "EE1c8zAdrGUF",
        "outputId": "99661abb-b501-484c-dea4-ef116bd5ef7d"
      },
      "source": [
        "#Doble corchete otorga un DF\n",
        "\n",
        "econ_df.loc[[1,2]]"
      ],
      "execution_count": 53,
      "outputs": [
        {
          "output_type": "execute_result",
          "data": {
            "text/html": [
              "<div>\n",
              "<style scoped>\n",
              "    .dataframe tbody tr th:only-of-type {\n",
              "        vertical-align: middle;\n",
              "    }\n",
              "\n",
              "    .dataframe tbody tr th {\n",
              "        vertical-align: top;\n",
              "    }\n",
              "\n",
              "    .dataframe thead th {\n",
              "        text-align: right;\n",
              "    }\n",
              "</style>\n",
              "<table border=\"1\" class=\"dataframe\">\n",
              "  <thead>\n",
              "    <tr style=\"text-align: right;\">\n",
              "      <th></th>\n",
              "      <th>economist</th>\n",
              "      <th>death_year</th>\n",
              "      <th>book</th>\n",
              "      <th>repeated</th>\n",
              "    </tr>\n",
              "  </thead>\n",
              "  <tbody>\n",
              "    <tr>\n",
              "      <th>1</th>\n",
              "      <td>Ricardo</td>\n",
              "      <td>1823</td>\n",
              "      <td>On the Principles of Political Economy and Tax...</td>\n",
              "      <td>1</td>\n",
              "    </tr>\n",
              "    <tr>\n",
              "      <th>2</th>\n",
              "      <td>Smith</td>\n",
              "      <td>1790</td>\n",
              "      <td>The Wealth of Nations</td>\n",
              "      <td>1</td>\n",
              "    </tr>\n",
              "  </tbody>\n",
              "</table>\n",
              "</div>"
            ],
            "text/plain": [
              "  economist  ...  repeated\n",
              "1   Ricardo  ...         1\n",
              "2     Smith  ...         1\n",
              "\n",
              "[2 rows x 4 columns]"
            ]
          },
          "metadata": {
            "tags": []
          },
          "execution_count": 53
        }
      ]
    },
    {
      "cell_type": "code",
      "metadata": {
        "colab": {
          "base_uri": "https://localhost:8080/"
        },
        "id": "bdHcDJnbskqD",
        "outputId": "abd7e270-406a-4ce9-dca5-dc23ee7a379b"
      },
      "source": [
        "econ_df.loc[0:1, 'economist']"
      ],
      "execution_count": 54,
      "outputs": [
        {
          "output_type": "execute_result",
          "data": {
            "text/plain": [
              "0       Marx\n",
              "1    Ricardo\n",
              "Name: economist, dtype: object"
            ]
          },
          "metadata": {
            "tags": []
          },
          "execution_count": 54
        }
      ]
    },
    {
      "cell_type": "code",
      "metadata": {
        "colab": {
          "base_uri": "https://localhost:8080/",
          "height": 112
        },
        "id": "9vgu5DaBs29N",
        "outputId": "3486c9f7-c7a3-4bf5-a478-916bd54c3fb4"
      },
      "source": [
        "#Condicionales con loc, y regresa un DF\n",
        "\n",
        "econ_df.loc[econ_df['death_year'] > 1800]"
      ],
      "execution_count": 55,
      "outputs": [
        {
          "output_type": "execute_result",
          "data": {
            "text/html": [
              "<div>\n",
              "<style scoped>\n",
              "    .dataframe tbody tr th:only-of-type {\n",
              "        vertical-align: middle;\n",
              "    }\n",
              "\n",
              "    .dataframe tbody tr th {\n",
              "        vertical-align: top;\n",
              "    }\n",
              "\n",
              "    .dataframe thead th {\n",
              "        text-align: right;\n",
              "    }\n",
              "</style>\n",
              "<table border=\"1\" class=\"dataframe\">\n",
              "  <thead>\n",
              "    <tr style=\"text-align: right;\">\n",
              "      <th></th>\n",
              "      <th>economist</th>\n",
              "      <th>death_year</th>\n",
              "      <th>book</th>\n",
              "      <th>repeated</th>\n",
              "    </tr>\n",
              "  </thead>\n",
              "  <tbody>\n",
              "    <tr>\n",
              "      <th>0</th>\n",
              "      <td>Marx</td>\n",
              "      <td>1883</td>\n",
              "      <td>The Capital</td>\n",
              "      <td>1</td>\n",
              "    </tr>\n",
              "    <tr>\n",
              "      <th>1</th>\n",
              "      <td>Ricardo</td>\n",
              "      <td>1823</td>\n",
              "      <td>On the Principles of Political Economy and Tax...</td>\n",
              "      <td>1</td>\n",
              "    </tr>\n",
              "  </tbody>\n",
              "</table>\n",
              "</div>"
            ],
            "text/plain": [
              "  economist  ...  repeated\n",
              "0      Marx  ...         1\n",
              "1   Ricardo  ...         1\n",
              "\n",
              "[2 rows x 4 columns]"
            ]
          },
          "metadata": {
            "tags": []
          },
          "execution_count": 55
        }
      ]
    },
    {
      "cell_type": "code",
      "metadata": {
        "colab": {
          "base_uri": "https://localhost:8080/",
          "height": 143
        },
        "id": "PnTYgRwbvsi0",
        "outputId": "995e65ff-c079-4168-d405-b871fd5f6ea4"
      },
      "source": [
        "#Asignar valores\n",
        "\n",
        "econ_df.loc[0,'repeated'] = 0\n",
        "econ_df"
      ],
      "execution_count": 56,
      "outputs": [
        {
          "output_type": "execute_result",
          "data": {
            "text/html": [
              "<div>\n",
              "<style scoped>\n",
              "    .dataframe tbody tr th:only-of-type {\n",
              "        vertical-align: middle;\n",
              "    }\n",
              "\n",
              "    .dataframe tbody tr th {\n",
              "        vertical-align: top;\n",
              "    }\n",
              "\n",
              "    .dataframe thead th {\n",
              "        text-align: right;\n",
              "    }\n",
              "</style>\n",
              "<table border=\"1\" class=\"dataframe\">\n",
              "  <thead>\n",
              "    <tr style=\"text-align: right;\">\n",
              "      <th></th>\n",
              "      <th>economist</th>\n",
              "      <th>death_year</th>\n",
              "      <th>book</th>\n",
              "      <th>repeated</th>\n",
              "    </tr>\n",
              "  </thead>\n",
              "  <tbody>\n",
              "    <tr>\n",
              "      <th>0</th>\n",
              "      <td>Marx</td>\n",
              "      <td>1883</td>\n",
              "      <td>The Capital</td>\n",
              "      <td>0</td>\n",
              "    </tr>\n",
              "    <tr>\n",
              "      <th>1</th>\n",
              "      <td>Ricardo</td>\n",
              "      <td>1823</td>\n",
              "      <td>On the Principles of Political Economy and Tax...</td>\n",
              "      <td>1</td>\n",
              "    </tr>\n",
              "    <tr>\n",
              "      <th>2</th>\n",
              "      <td>Smith</td>\n",
              "      <td>1790</td>\n",
              "      <td>The Wealth of Nations</td>\n",
              "      <td>1</td>\n",
              "    </tr>\n",
              "  </tbody>\n",
              "</table>\n",
              "</div>"
            ],
            "text/plain": [
              "  economist  ...  repeated\n",
              "0      Marx  ...         0\n",
              "1   Ricardo  ...         1\n",
              "2     Smith  ...         1\n",
              "\n",
              "[3 rows x 4 columns]"
            ]
          },
          "metadata": {
            "tags": []
          },
          "execution_count": 56
        }
      ]
    },
    {
      "cell_type": "code",
      "metadata": {
        "colab": {
          "base_uri": "https://localhost:8080/"
        },
        "id": "VsTY8gb8wNuR",
        "outputId": "bf6df881-71b0-4420-8cb8-218f04b527c5"
      },
      "source": [
        "#Ocupamos iloc para seleccionar renglon por ubicación de número sin importar como esta el indice\n",
        "\n",
        "econ_df.iloc[0]"
      ],
      "execution_count": 57,
      "outputs": [
        {
          "output_type": "execute_result",
          "data": {
            "text/plain": [
              "economist            Marx\n",
              "death_year           1883\n",
              "book          The Capital\n",
              "repeated                0\n",
              "Name: 0, dtype: object"
            ]
          },
          "metadata": {
            "tags": []
          },
          "execution_count": 57
        }
      ]
    },
    {
      "cell_type": "code",
      "metadata": {
        "colab": {
          "base_uri": "https://localhost:8080/",
          "height": 80
        },
        "id": "na7MvVGaxkii",
        "outputId": "ab0acf72-5fae-4bea-ddd4-f208ec825883"
      },
      "source": [
        "#Con doble corchete arroja un df\n",
        "econ_df.iloc[[0]]"
      ],
      "execution_count": 58,
      "outputs": [
        {
          "output_type": "execute_result",
          "data": {
            "text/html": [
              "<div>\n",
              "<style scoped>\n",
              "    .dataframe tbody tr th:only-of-type {\n",
              "        vertical-align: middle;\n",
              "    }\n",
              "\n",
              "    .dataframe tbody tr th {\n",
              "        vertical-align: top;\n",
              "    }\n",
              "\n",
              "    .dataframe thead th {\n",
              "        text-align: right;\n",
              "    }\n",
              "</style>\n",
              "<table border=\"1\" class=\"dataframe\">\n",
              "  <thead>\n",
              "    <tr style=\"text-align: right;\">\n",
              "      <th></th>\n",
              "      <th>economist</th>\n",
              "      <th>death_year</th>\n",
              "      <th>book</th>\n",
              "      <th>repeated</th>\n",
              "    </tr>\n",
              "  </thead>\n",
              "  <tbody>\n",
              "    <tr>\n",
              "      <th>0</th>\n",
              "      <td>Marx</td>\n",
              "      <td>1883</td>\n",
              "      <td>The Capital</td>\n",
              "      <td>0</td>\n",
              "    </tr>\n",
              "  </tbody>\n",
              "</table>\n",
              "</div>"
            ],
            "text/plain": [
              "  economist  death_year         book  repeated\n",
              "0      Marx        1883  The Capital         0"
            ]
          },
          "metadata": {
            "tags": []
          },
          "execution_count": 58
        }
      ]
    },
    {
      "cell_type": "code",
      "metadata": {
        "colab": {
          "base_uri": "https://localhost:8080/",
          "height": 36
        },
        "id": "4eFkEfYBx5J2",
        "outputId": "3e054c6b-8c63-499c-f567-f9341abfb535"
      },
      "source": [
        "#Se puede mezclar tanto indices de columnas y renglones\n",
        "econ_df.iloc[0,0]"
      ],
      "execution_count": 63,
      "outputs": [
        {
          "output_type": "execute_result",
          "data": {
            "application/vnd.google.colaboratory.intrinsic+json": {
              "type": "string"
            },
            "text/plain": [
              "'Marx'"
            ]
          },
          "metadata": {
            "tags": []
          },
          "execution_count": 63
        }
      ]
    },
    {
      "cell_type": "code",
      "metadata": {
        "colab": {
          "base_uri": "https://localhost:8080/"
        },
        "id": "ioeFim-pysJD",
        "outputId": "02557bdb-58fc-4da1-fb76-7285a92c53c9"
      },
      "source": [
        "econ_df.iloc[:2, 1]"
      ],
      "execution_count": 66,
      "outputs": [
        {
          "output_type": "execute_result",
          "data": {
            "text/plain": [
              "0    1883\n",
              "1    1823\n",
              "Name: death_year, dtype: int64"
            ]
          },
          "metadata": {
            "tags": []
          },
          "execution_count": 66
        }
      ]
    },
    {
      "cell_type": "markdown",
      "metadata": {
        "id": "YImcr770cItn"
      },
      "source": [
        "###Estructuras de datos adyacentes\n",
        "\n",
        "El dataframe alberga en cada columna una serie (series)"
      ]
    },
    {
      "cell_type": "code",
      "metadata": {
        "colab": {
          "base_uri": "https://localhost:8080/"
        },
        "id": "TEPAjpB3b_7F",
        "outputId": "14242a98-692c-4978-b438-73ea561c0211"
      },
      "source": [
        "#Para acceder se ocupa lo siguiente, hace rememorar como accedemos a valores en diccionarios\n",
        "\n",
        "econ_df[\"economist\"]"
      ],
      "execution_count": 4,
      "outputs": [
        {
          "output_type": "execute_result",
          "data": {
            "text/plain": [
              "0       Marx\n",
              "1    Ricardo\n",
              "2      Smith\n",
              "Name: economist, dtype: object"
            ]
          },
          "metadata": {
            "tags": []
          },
          "execution_count": 4
        }
      ]
    },
    {
      "cell_type": "code",
      "metadata": {
        "colab": {
          "base_uri": "https://localhost:8080/"
        },
        "id": "tRl1IfkrcZBf",
        "outputId": "5c80cbf9-10dc-4f80-c14d-5e596faf2f61"
      },
      "source": [
        "#De igual forma se puede crear una serie desde la librería, hay que notar que \n",
        "#una serie en pandas no tiene nombre de columna\n",
        "\n",
        "other_econ = pd.Series([\"Friedman\",\"Yellen\"], name=\"economist\")\n",
        "other_econ"
      ],
      "execution_count": 5,
      "outputs": [
        {
          "output_type": "execute_result",
          "data": {
            "text/plain": [
              "0    Friedman\n",
              "1      Yellen\n",
              "Name: economist, dtype: object"
            ]
          },
          "metadata": {
            "tags": []
          },
          "execution_count": 5
        }
      ]
    },
    {
      "cell_type": "code",
      "metadata": {
        "colab": {
          "base_uri": "https://localhost:8080/"
        },
        "id": "S4Wt0UaxfQUz",
        "outputId": "892de977-aca8-49a3-e634-266a300cbc9c"
      },
      "source": [
        "#De diccionario a serie en pandas\n",
        "\n",
        "dict_ = {\"a\": 1, \"b\": 2, \"c\": 3, \"d\": 4}\n",
        "pd.Series(dict_)"
      ],
      "execution_count": 9,
      "outputs": [
        {
          "output_type": "execute_result",
          "data": {
            "text/plain": [
              "a    1\n",
              "b    2\n",
              "c    3\n",
              "d    4\n",
              "dtype: int64"
            ]
          },
          "metadata": {
            "tags": []
          },
          "execution_count": 9
        }
      ]
    },
    {
      "cell_type": "code",
      "metadata": {
        "colab": {
          "base_uri": "https://localhost:8080/"
        },
        "id": "yBlNFxvIfnME",
        "outputId": "3b602e78-b3ce-4309-dacb-6d5bf74fb58a"
      },
      "source": [
        "#Usamos una librería auxiliar llamada numpy que se usa para emular estructuras matematicas y demás\n",
        "\n",
        "import numpy as np \n",
        "\n",
        "dict_2 = pd.Series(np.random.randn(8), index=['a','b','c','d','e','f','g','h'])\n",
        "dict_2\n"
      ],
      "execution_count": 10,
      "outputs": [
        {
          "output_type": "execute_result",
          "data": {
            "text/plain": [
              "a   -0.364475\n",
              "b    0.304384\n",
              "c    0.005643\n",
              "d    0.045326\n",
              "e   -0.910787\n",
              "f   -1.372465\n",
              "g   -0.055360\n",
              "h   -0.233163\n",
              "dtype: float64"
            ]
          },
          "metadata": {
            "tags": []
          },
          "execution_count": 10
        }
      ]
    },
    {
      "cell_type": "code",
      "metadata": {
        "colab": {
          "base_uri": "https://localhost:8080/"
        },
        "id": "Vk-sQoGDgf_K",
        "outputId": "d95f35ec-a80e-4499-e7fb-0a99cf0b608f"
      },
      "source": [
        "dict_3 = pd.Series(np.random.randn(8), index=['h','b','c','d','e','f','g','a'])\n",
        "dict_3"
      ],
      "execution_count": 12,
      "outputs": [
        {
          "output_type": "execute_result",
          "data": {
            "text/plain": [
              "h    0.218436\n",
              "b   -0.452562\n",
              "c    0.265557\n",
              "d   -0.410621\n",
              "e    0.467148\n",
              "f    0.334874\n",
              "g   -0.790630\n",
              "a   -0.540346\n",
              "dtype: float64"
            ]
          },
          "metadata": {
            "tags": []
          },
          "execution_count": 12
        }
      ]
    },
    {
      "cell_type": "code",
      "metadata": {
        "colab": {
          "base_uri": "https://localhost:8080/"
        },
        "id": "UYz8EYn0guKs",
        "outputId": "ef98e3a1-fd18-4128-cdc5-14d9f4079e1d"
      },
      "source": [
        "#Missing values\n",
        "\n",
        "dict_ = {\"a\": 1, \"b\": 2, \"c\": 3, \"d\": 4}\n",
        "pd.Series(dict_, index=['a','b','d','c','e'])"
      ],
      "execution_count": 15,
      "outputs": [
        {
          "output_type": "execute_result",
          "data": {
            "text/plain": [
              "a    1.0\n",
              "b    2.0\n",
              "d    4.0\n",
              "c    3.0\n",
              "e    NaN\n",
              "dtype: float64"
            ]
          },
          "metadata": {
            "tags": []
          },
          "execution_count": 15
        }
      ]
    },
    {
      "cell_type": "code",
      "metadata": {
        "colab": {
          "base_uri": "https://localhost:8080/"
        },
        "id": "zzoMAJYVhUYi",
        "outputId": "b8c0a20e-8b8c-4f4c-ec78-696d614fc8e5"
      },
      "source": [
        "#Series like array\n",
        "dict_3[0]"
      ],
      "execution_count": 19,
      "outputs": [
        {
          "output_type": "execute_result",
          "data": {
            "text/plain": [
              "0.21843562781213724"
            ]
          },
          "metadata": {
            "tags": []
          },
          "execution_count": 19
        }
      ]
    },
    {
      "cell_type": "code",
      "metadata": {
        "colab": {
          "base_uri": "https://localhost:8080/"
        },
        "id": "TUgar1rth0td",
        "outputId": "71753e96-d938-4bc4-babc-18a52ae979ba"
      },
      "source": [
        "dict_3[dict_3 > dict_3.median()]"
      ],
      "execution_count": 23,
      "outputs": [
        {
          "output_type": "execute_result",
          "data": {
            "text/plain": [
              "h    0.218436\n",
              "c    0.265557\n",
              "e    0.467148\n",
              "f    0.334874\n",
              "dtype: float64"
            ]
          },
          "metadata": {
            "tags": []
          },
          "execution_count": 23
        }
      ]
    },
    {
      "cell_type": "code",
      "metadata": {
        "colab": {
          "base_uri": "https://localhost:8080/"
        },
        "id": "F0g9UKvEifik",
        "outputId": "9b97c03c-12da-49f5-c8ce-cc0a21eb8115"
      },
      "source": [
        "#Operaciones vectoriales\n",
        "\n",
        "dict_3 + dict_3"
      ],
      "execution_count": 25,
      "outputs": [
        {
          "output_type": "execute_result",
          "data": {
            "text/plain": [
              "h    0.436871\n",
              "b   -0.905124\n",
              "c    0.531114\n",
              "d   -0.821242\n",
              "e    0.934296\n",
              "f    0.669748\n",
              "g   -1.581259\n",
              "a   -1.080692\n",
              "dtype: float64"
            ]
          },
          "metadata": {
            "tags": []
          },
          "execution_count": 25
        }
      ]
    },
    {
      "cell_type": "code",
      "metadata": {
        "colab": {
          "base_uri": "https://localhost:8080/"
        },
        "id": "j7ZhTDcYiEke",
        "outputId": "e58e69a0-9c47-4e0c-f833-308eff96b23a"
      },
      "source": [
        "np.exp(dict_3)"
      ],
      "execution_count": 24,
      "outputs": [
        {
          "output_type": "execute_result",
          "data": {
            "text/plain": [
              "h    1.244129\n",
              "b    0.635997\n",
              "c    1.304157\n",
              "d    0.663238\n",
              "e    1.595437\n",
              "f    1.397764\n",
              "g    0.453559\n",
              "a    0.582547\n",
              "dtype: float64"
            ]
          },
          "metadata": {
            "tags": []
          },
          "execution_count": 24
        }
      ]
    },
    {
      "cell_type": "code",
      "metadata": {
        "colab": {
          "base_uri": "https://localhost:8080/"
        },
        "id": "jHFEOJHNilDJ",
        "outputId": "a497cd32-9a72-4524-d2e9-c1ac4e875739"
      },
      "source": [
        "dict_3 * 100"
      ],
      "execution_count": 28,
      "outputs": [
        {
          "output_type": "execute_result",
          "data": {
            "text/plain": [
              "h    21.843563\n",
              "b   -45.256179\n",
              "c    26.555707\n",
              "d   -41.062096\n",
              "e    46.714794\n",
              "f    33.487402\n",
              "g   -79.062956\n",
              "a   -54.034586\n",
              "dtype: float64"
            ]
          },
          "metadata": {
            "tags": []
          },
          "execution_count": 28
        }
      ]
    },
    {
      "cell_type": "markdown",
      "metadata": {
        "id": "PI-DZY7gdKD4"
      },
      "source": [
        "###Operaciones en estas estructuras de datos"
      ]
    },
    {
      "cell_type": "code",
      "metadata": {
        "colab": {
          "base_uri": "https://localhost:8080/"
        },
        "id": "PUgvYNOOc6Rb",
        "outputId": "9af56108-b8af-4225-822d-c82a8150ea08"
      },
      "source": [
        "econ_df[\"death_year\"].max()"
      ],
      "execution_count": 6,
      "outputs": [
        {
          "output_type": "execute_result",
          "data": {
            "text/plain": [
              "1883"
            ]
          },
          "metadata": {
            "tags": []
          },
          "execution_count": 6
        }
      ]
    },
    {
      "cell_type": "code",
      "metadata": {
        "colab": {
          "base_uri": "https://localhost:8080/",
          "height": 300
        },
        "id": "JN3wyYdZdegJ",
        "outputId": "2dfea96e-32cf-4090-c918-9b4af30f531b"
      },
      "source": [
        "#Este método omite aquellas columnas que no albergan valores númericos\n",
        "econ_df.describe()"
      ],
      "execution_count": 7,
      "outputs": [
        {
          "output_type": "execute_result",
          "data": {
            "text/html": [
              "<div>\n",
              "<style scoped>\n",
              "    .dataframe tbody tr th:only-of-type {\n",
              "        vertical-align: middle;\n",
              "    }\n",
              "\n",
              "    .dataframe tbody tr th {\n",
              "        vertical-align: top;\n",
              "    }\n",
              "\n",
              "    .dataframe thead th {\n",
              "        text-align: right;\n",
              "    }\n",
              "</style>\n",
              "<table border=\"1\" class=\"dataframe\">\n",
              "  <thead>\n",
              "    <tr style=\"text-align: right;\">\n",
              "      <th></th>\n",
              "      <th>death_year</th>\n",
              "    </tr>\n",
              "  </thead>\n",
              "  <tbody>\n",
              "    <tr>\n",
              "      <th>count</th>\n",
              "      <td>3.000000</td>\n",
              "    </tr>\n",
              "    <tr>\n",
              "      <th>mean</th>\n",
              "      <td>1832.000000</td>\n",
              "    </tr>\n",
              "    <tr>\n",
              "      <th>std</th>\n",
              "      <td>47.148701</td>\n",
              "    </tr>\n",
              "    <tr>\n",
              "      <th>min</th>\n",
              "      <td>1790.000000</td>\n",
              "    </tr>\n",
              "    <tr>\n",
              "      <th>25%</th>\n",
              "      <td>1806.500000</td>\n",
              "    </tr>\n",
              "    <tr>\n",
              "      <th>50%</th>\n",
              "      <td>1823.000000</td>\n",
              "    </tr>\n",
              "    <tr>\n",
              "      <th>75%</th>\n",
              "      <td>1853.000000</td>\n",
              "    </tr>\n",
              "    <tr>\n",
              "      <th>max</th>\n",
              "      <td>1883.000000</td>\n",
              "    </tr>\n",
              "  </tbody>\n",
              "</table>\n",
              "</div>"
            ],
            "text/plain": [
              "        death_year\n",
              "count     3.000000\n",
              "mean   1832.000000\n",
              "std      47.148701\n",
              "min    1790.000000\n",
              "25%    1806.500000\n",
              "50%    1823.000000\n",
              "75%    1853.000000\n",
              "max    1883.000000"
            ]
          },
          "metadata": {
            "tags": []
          },
          "execution_count": 7
        }
      ]
    },
    {
      "cell_type": "code",
      "metadata": {
        "colab": {
          "base_uri": "https://localhost:8080/",
          "height": 112
        },
        "id": "Uuin-_dedmPG",
        "outputId": "47607bc7-bce7-4c7c-fad3-3b2ca596ddf7"
      },
      "source": [
        "sub_econ_df = econ_df[(econ_df[\"death_year\"] > 1800)]\n",
        "sub_econ_df"
      ],
      "execution_count": 67,
      "outputs": [
        {
          "output_type": "execute_result",
          "data": {
            "text/html": [
              "<div>\n",
              "<style scoped>\n",
              "    .dataframe tbody tr th:only-of-type {\n",
              "        vertical-align: middle;\n",
              "    }\n",
              "\n",
              "    .dataframe tbody tr th {\n",
              "        vertical-align: top;\n",
              "    }\n",
              "\n",
              "    .dataframe thead th {\n",
              "        text-align: right;\n",
              "    }\n",
              "</style>\n",
              "<table border=\"1\" class=\"dataframe\">\n",
              "  <thead>\n",
              "    <tr style=\"text-align: right;\">\n",
              "      <th></th>\n",
              "      <th>economist</th>\n",
              "      <th>death_year</th>\n",
              "      <th>book</th>\n",
              "      <th>repeated</th>\n",
              "    </tr>\n",
              "  </thead>\n",
              "  <tbody>\n",
              "    <tr>\n",
              "      <th>0</th>\n",
              "      <td>Marx</td>\n",
              "      <td>1883</td>\n",
              "      <td>The Capital</td>\n",
              "      <td>0</td>\n",
              "    </tr>\n",
              "    <tr>\n",
              "      <th>1</th>\n",
              "      <td>Ricardo</td>\n",
              "      <td>1823</td>\n",
              "      <td>On the Principles of Political Economy and Tax...</td>\n",
              "      <td>1</td>\n",
              "    </tr>\n",
              "  </tbody>\n",
              "</table>\n",
              "</div>"
            ],
            "text/plain": [
              "  economist  ...  repeated\n",
              "0      Marx  ...         0\n",
              "1   Ricardo  ...         1\n",
              "\n",
              "[2 rows x 4 columns]"
            ]
          },
          "metadata": {
            "tags": []
          },
          "execution_count": 67
        }
      ]
    },
    {
      "cell_type": "code",
      "metadata": {
        "colab": {
          "base_uri": "https://localhost:8080/"
        },
        "id": "IfsnDWqfzdhN",
        "outputId": "787cf905-0510-4888-b89a-4fc3f442b15b"
      },
      "source": [
        "sub_econ_df.shape"
      ],
      "execution_count": 68,
      "outputs": [
        {
          "output_type": "execute_result",
          "data": {
            "text/plain": [
              "(2, 4)"
            ]
          },
          "metadata": {
            "tags": []
          },
          "execution_count": 68
        }
      ]
    },
    {
      "cell_type": "code",
      "metadata": {
        "colab": {
          "base_uri": "https://localhost:8080/"
        },
        "id": "DZCQY8Brzi3S",
        "outputId": "5068b6ac-0083-4692-8e6d-e8d7db7809b0"
      },
      "source": [
        "sub_econ_df = econ_df.loc[econ_df[\"death_year\"] > 1800, \"economist\"]\n",
        "sub_econ_df"
      ],
      "execution_count": 70,
      "outputs": [
        {
          "output_type": "execute_result",
          "data": {
            "text/plain": [
              "0       Marx\n",
              "1    Ricardo\n",
              "Name: economist, dtype: object"
            ]
          },
          "metadata": {
            "tags": []
          },
          "execution_count": 70
        }
      ]
    },
    {
      "cell_type": "code",
      "metadata": {
        "id": "xMcILUNXzrVT"
      },
      "source": [
        ""
      ],
      "execution_count": null,
      "outputs": []
    }
  ]
}